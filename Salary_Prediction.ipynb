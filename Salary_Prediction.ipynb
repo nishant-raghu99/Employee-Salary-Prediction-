{
 "cells": [
  {
   "cell_type": "code",
   "execution_count": 1,
   "metadata": {},
   "outputs": [],
   "source": [
    "import pandas as pd\n",
    "import numpy as np\n",
    "from pandas.plotting import scatter_matrix\n",
    "from sklearn.model_selection import train_test_split\n",
    "from sklearn.linear_model import LinearRegression\n",
    "from sklearn.preprocessing import OrdinalEncoder\n",
    "from sklearn.metrics import mean_squared_error"
   ]
  },
  {
   "cell_type": "code",
   "execution_count": 2,
   "metadata": {},
   "outputs": [],
   "source": [
    "df=pd.read_csv('Downloads/salary_prediction.csv')\n",
    "df1=pd.read_csv('Downloads/salary_prediction_test.csv')\n",
    "\n",
    "#creating dataframe\n",
    "data = {'Age(yrs)':  ['31'],\n",
    "        'Gender': ['F'],\n",
    "        'Qualification': ['B.E'],\n",
    "        'no_of_experience_in_years': ['9'],\n",
    "        'Area_of_work': ['Sw testing'],\n",
    "        'salary_package_per_month': [' '],\n",
    "        }\n",
    "df2 = pd.DataFrame(data)"
   ]
  },
  {
   "cell_type": "markdown",
   "metadata": {},
   "source": [
    "# Dataframes\n"
   ]
  },
  {
   "cell_type": "code",
   "execution_count": 3,
   "metadata": {},
   "outputs": [],
   "source": [
    "#IT consit of two data frame one test=df1 and one train=df"
   ]
  },
  {
   "cell_type": "code",
   "execution_count": 4,
   "metadata": {},
   "outputs": [
    {
     "data": {
      "text/html": [
       "<div>\n",
       "<style scoped>\n",
       "    .dataframe tbody tr th:only-of-type {\n",
       "        vertical-align: middle;\n",
       "    }\n",
       "\n",
       "    .dataframe tbody tr th {\n",
       "        vertical-align: top;\n",
       "    }\n",
       "\n",
       "    .dataframe thead th {\n",
       "        text-align: right;\n",
       "    }\n",
       "</style>\n",
       "<table border=\"1\" class=\"dataframe\">\n",
       "  <thead>\n",
       "    <tr style=\"text-align: right;\">\n",
       "      <th></th>\n",
       "      <th>company</th>\n",
       "      <th>Age(yrs)</th>\n",
       "      <th>Gender</th>\n",
       "      <th>Qualification</th>\n",
       "      <th>no_of_experience_in_years</th>\n",
       "      <th>Area_of_work</th>\n",
       "      <th>salary_package_per_month</th>\n",
       "    </tr>\n",
       "  </thead>\n",
       "  <tbody>\n",
       "    <tr>\n",
       "      <th>0</th>\n",
       "      <td>ABBB</td>\n",
       "      <td>21</td>\n",
       "      <td>M</td>\n",
       "      <td>B.E</td>\n",
       "      <td>0.0</td>\n",
       "      <td>programming</td>\n",
       "      <td>30000</td>\n",
       "    </tr>\n",
       "    <tr>\n",
       "      <th>1</th>\n",
       "      <td>NaN</td>\n",
       "      <td>24</td>\n",
       "      <td>F</td>\n",
       "      <td>M.E</td>\n",
       "      <td>1.0</td>\n",
       "      <td>predective analysis</td>\n",
       "      <td>50000</td>\n",
       "    </tr>\n",
       "    <tr>\n",
       "      <th>2</th>\n",
       "      <td>NaN</td>\n",
       "      <td>30</td>\n",
       "      <td>M</td>\n",
       "      <td>M.E</td>\n",
       "      <td>5.0</td>\n",
       "      <td>cloud server management</td>\n",
       "      <td>120000</td>\n",
       "    </tr>\n",
       "    <tr>\n",
       "      <th>3</th>\n",
       "      <td>NaN</td>\n",
       "      <td>23</td>\n",
       "      <td>M</td>\n",
       "      <td>B.E</td>\n",
       "      <td>2.0</td>\n",
       "      <td>programming</td>\n",
       "      <td>42000</td>\n",
       "    </tr>\n",
       "    <tr>\n",
       "      <th>4</th>\n",
       "      <td>NaN</td>\n",
       "      <td>21</td>\n",
       "      <td>F</td>\n",
       "      <td>B.E</td>\n",
       "      <td>0.0</td>\n",
       "      <td>predective analysis</td>\n",
       "      <td>35000</td>\n",
       "    </tr>\n",
       "    <tr>\n",
       "      <th>...</th>\n",
       "      <td>...</td>\n",
       "      <td>...</td>\n",
       "      <td>...</td>\n",
       "      <td>...</td>\n",
       "      <td>...</td>\n",
       "      <td>...</td>\n",
       "      <td>...</td>\n",
       "    </tr>\n",
       "    <tr>\n",
       "      <th>159</th>\n",
       "      <td>NaN</td>\n",
       "      <td>41</td>\n",
       "      <td>F</td>\n",
       "      <td>B.E</td>\n",
       "      <td>18.0</td>\n",
       "      <td>predective analysis</td>\n",
       "      <td>1300000</td>\n",
       "    </tr>\n",
       "    <tr>\n",
       "      <th>160</th>\n",
       "      <td>NaN</td>\n",
       "      <td>42</td>\n",
       "      <td>F</td>\n",
       "      <td>B.E</td>\n",
       "      <td>18.0</td>\n",
       "      <td>predective analysis</td>\n",
       "      <td>1900000</td>\n",
       "    </tr>\n",
       "    <tr>\n",
       "      <th>161</th>\n",
       "      <td>NaN</td>\n",
       "      <td>42</td>\n",
       "      <td>F</td>\n",
       "      <td>B.E</td>\n",
       "      <td>21.0</td>\n",
       "      <td>cloud server management</td>\n",
       "      <td>2000000</td>\n",
       "    </tr>\n",
       "    <tr>\n",
       "      <th>162</th>\n",
       "      <td>NaN</td>\n",
       "      <td>42</td>\n",
       "      <td>F</td>\n",
       "      <td>B.E</td>\n",
       "      <td>21.0</td>\n",
       "      <td>cloud server management</td>\n",
       "      <td>2000000</td>\n",
       "    </tr>\n",
       "    <tr>\n",
       "      <th>163</th>\n",
       "      <td>NaN</td>\n",
       "      <td>43</td>\n",
       "      <td>F</td>\n",
       "      <td>B.E</td>\n",
       "      <td>21.0</td>\n",
       "      <td>cloud server management</td>\n",
       "      <td>1900000</td>\n",
       "    </tr>\n",
       "  </tbody>\n",
       "</table>\n",
       "<p>164 rows × 7 columns</p>\n",
       "</div>"
      ],
      "text/plain": [
       "    company  Age(yrs) Gender Qualification  no_of_experience_in_years  \\\n",
       "0      ABBB        21      M           B.E                        0.0   \n",
       "1       NaN        24      F           M.E                        1.0   \n",
       "2       NaN        30      M           M.E                        5.0   \n",
       "3       NaN        23      M           B.E                        2.0   \n",
       "4       NaN        21      F           B.E                        0.0   \n",
       "..      ...       ...    ...           ...                        ...   \n",
       "159     NaN        41      F           B.E                       18.0   \n",
       "160     NaN        42      F           B.E                       18.0   \n",
       "161     NaN        42      F           B.E                       21.0   \n",
       "162     NaN        42      F           B.E                       21.0   \n",
       "163     NaN        43      F           B.E                       21.0   \n",
       "\n",
       "                Area_of_work  salary_package_per_month  \n",
       "0               programming                      30000  \n",
       "1        predective analysis                     50000  \n",
       "2    cloud server management                    120000  \n",
       "3               programming                      42000  \n",
       "4        predective analysis                     35000  \n",
       "..                       ...                       ...  \n",
       "159      predective analysis                   1300000  \n",
       "160      predective analysis                   1900000  \n",
       "161  cloud server management                   2000000  \n",
       "162  cloud server management                   2000000  \n",
       "163  cloud server management                   1900000  \n",
       "\n",
       "[164 rows x 7 columns]"
      ]
     },
     "execution_count": 4,
     "metadata": {},
     "output_type": "execute_result"
    }
   ],
   "source": [
    "df"
   ]
  },
  {
   "cell_type": "code",
   "execution_count": 5,
   "metadata": {},
   "outputs": [
    {
     "data": {
      "text/html": [
       "<div>\n",
       "<style scoped>\n",
       "    .dataframe tbody tr th:only-of-type {\n",
       "        vertical-align: middle;\n",
       "    }\n",
       "\n",
       "    .dataframe tbody tr th {\n",
       "        vertical-align: top;\n",
       "    }\n",
       "\n",
       "    .dataframe thead th {\n",
       "        text-align: right;\n",
       "    }\n",
       "</style>\n",
       "<table border=\"1\" class=\"dataframe\">\n",
       "  <thead>\n",
       "    <tr style=\"text-align: right;\">\n",
       "      <th></th>\n",
       "      <th>Age(yrs)</th>\n",
       "      <th>Gender</th>\n",
       "      <th>Qualification</th>\n",
       "      <th>no_of_experience_in_years</th>\n",
       "      <th>Area_of_work</th>\n",
       "      <th>salary_package_per_month</th>\n",
       "    </tr>\n",
       "  </thead>\n",
       "  <tbody>\n",
       "    <tr>\n",
       "      <th>0</th>\n",
       "      <td>22</td>\n",
       "      <td>F</td>\n",
       "      <td>B.E</td>\n",
       "      <td>1</td>\n",
       "      <td>programming</td>\n",
       "      <td>NaN</td>\n",
       "    </tr>\n",
       "    <tr>\n",
       "      <th>1</th>\n",
       "      <td>21</td>\n",
       "      <td>M</td>\n",
       "      <td>B.E</td>\n",
       "      <td>0</td>\n",
       "      <td>predictive analysis</td>\n",
       "      <td>NaN</td>\n",
       "    </tr>\n",
       "    <tr>\n",
       "      <th>2</th>\n",
       "      <td>30</td>\n",
       "      <td>F</td>\n",
       "      <td>M.E</td>\n",
       "      <td>4</td>\n",
       "      <td>banking sw</td>\n",
       "      <td>NaN</td>\n",
       "    </tr>\n",
       "    <tr>\n",
       "      <th>3</th>\n",
       "      <td>28</td>\n",
       "      <td>M</td>\n",
       "      <td>M.E</td>\n",
       "      <td>3</td>\n",
       "      <td>Sw testing</td>\n",
       "      <td>NaN</td>\n",
       "    </tr>\n",
       "    <tr>\n",
       "      <th>4</th>\n",
       "      <td>24</td>\n",
       "      <td>F</td>\n",
       "      <td>M.E</td>\n",
       "      <td>1</td>\n",
       "      <td>cloud server management</td>\n",
       "      <td>NaN</td>\n",
       "    </tr>\n",
       "  </tbody>\n",
       "</table>\n",
       "</div>"
      ],
      "text/plain": [
       "   Age(yrs) Gender Qualification  no_of_experience_in_years  \\\n",
       "0        22      F           B.E                          1   \n",
       "1        21      M           B.E                          0   \n",
       "2        30      F           M.E                          4   \n",
       "3        28      M           M.E                          3   \n",
       "4        24      F           M.E                          1   \n",
       "\n",
       "              Area_of_work  salary_package_per_month  \n",
       "0              programming                       NaN  \n",
       "1      predictive analysis                       NaN  \n",
       "2               banking sw                       NaN  \n",
       "3               Sw testing                       NaN  \n",
       "4  cloud server management                       NaN  "
      ]
     },
     "execution_count": 5,
     "metadata": {},
     "output_type": "execute_result"
    }
   ],
   "source": [
    "df1"
   ]
  },
  {
   "cell_type": "code",
   "execution_count": 6,
   "metadata": {},
   "outputs": [
    {
     "data": {
      "text/html": [
       "<div>\n",
       "<style scoped>\n",
       "    .dataframe tbody tr th:only-of-type {\n",
       "        vertical-align: middle;\n",
       "    }\n",
       "\n",
       "    .dataframe tbody tr th {\n",
       "        vertical-align: top;\n",
       "    }\n",
       "\n",
       "    .dataframe thead th {\n",
       "        text-align: right;\n",
       "    }\n",
       "</style>\n",
       "<table border=\"1\" class=\"dataframe\">\n",
       "  <thead>\n",
       "    <tr style=\"text-align: right;\">\n",
       "      <th></th>\n",
       "      <th>Age(yrs)</th>\n",
       "      <th>Gender</th>\n",
       "      <th>Qualification</th>\n",
       "      <th>no_of_experience_in_years</th>\n",
       "      <th>Area_of_work</th>\n",
       "      <th>salary_package_per_month</th>\n",
       "    </tr>\n",
       "  </thead>\n",
       "  <tbody>\n",
       "    <tr>\n",
       "      <th>0</th>\n",
       "      <td>31</td>\n",
       "      <td>F</td>\n",
       "      <td>B.E</td>\n",
       "      <td>9</td>\n",
       "      <td>Sw testing</td>\n",
       "      <td></td>\n",
       "    </tr>\n",
       "  </tbody>\n",
       "</table>\n",
       "</div>"
      ],
      "text/plain": [
       "  Age(yrs) Gender Qualification no_of_experience_in_years Area_of_work  \\\n",
       "0       31      F           B.E                         9   Sw testing   \n",
       "\n",
       "  salary_package_per_month  \n",
       "0                           "
      ]
     },
     "execution_count": 6,
     "metadata": {},
     "output_type": "execute_result"
    }
   ],
   "source": [
    "df2"
   ]
  },
  {
   "cell_type": "code",
   "execution_count": 7,
   "metadata": {},
   "outputs": [
    {
     "data": {
      "text/plain": [
       "(164, 7)"
      ]
     },
     "execution_count": 7,
     "metadata": {},
     "output_type": "execute_result"
    }
   ],
   "source": [
    "df.shape"
   ]
  },
  {
   "cell_type": "code",
   "execution_count": 8,
   "metadata": {},
   "outputs": [
    {
     "data": {
      "text/plain": [
       "(5, 6)"
      ]
     },
     "execution_count": 8,
     "metadata": {},
     "output_type": "execute_result"
    }
   ],
   "source": [
    "df1.shape"
   ]
  },
  {
   "cell_type": "code",
   "execution_count": 9,
   "metadata": {},
   "outputs": [
    {
     "data": {
      "text/plain": [
       "(1, 6)"
      ]
     },
     "execution_count": 9,
     "metadata": {},
     "output_type": "execute_result"
    }
   ],
   "source": [
    "df2.shape"
   ]
  },
  {
   "cell_type": "markdown",
   "metadata": {},
   "source": [
    "# To check first 5 data dataset\n"
   ]
  },
  {
   "cell_type": "code",
   "execution_count": 10,
   "metadata": {},
   "outputs": [
    {
     "data": {
      "text/html": [
       "<div>\n",
       "<style scoped>\n",
       "    .dataframe tbody tr th:only-of-type {\n",
       "        vertical-align: middle;\n",
       "    }\n",
       "\n",
       "    .dataframe tbody tr th {\n",
       "        vertical-align: top;\n",
       "    }\n",
       "\n",
       "    .dataframe thead th {\n",
       "        text-align: right;\n",
       "    }\n",
       "</style>\n",
       "<table border=\"1\" class=\"dataframe\">\n",
       "  <thead>\n",
       "    <tr style=\"text-align: right;\">\n",
       "      <th></th>\n",
       "      <th>company</th>\n",
       "      <th>Age(yrs)</th>\n",
       "      <th>Gender</th>\n",
       "      <th>Qualification</th>\n",
       "      <th>no_of_experience_in_years</th>\n",
       "      <th>Area_of_work</th>\n",
       "      <th>salary_package_per_month</th>\n",
       "    </tr>\n",
       "  </thead>\n",
       "  <tbody>\n",
       "    <tr>\n",
       "      <th>0</th>\n",
       "      <td>ABBB</td>\n",
       "      <td>21</td>\n",
       "      <td>M</td>\n",
       "      <td>B.E</td>\n",
       "      <td>0.0</td>\n",
       "      <td>programming</td>\n",
       "      <td>30000</td>\n",
       "    </tr>\n",
       "    <tr>\n",
       "      <th>1</th>\n",
       "      <td>NaN</td>\n",
       "      <td>24</td>\n",
       "      <td>F</td>\n",
       "      <td>M.E</td>\n",
       "      <td>1.0</td>\n",
       "      <td>predective analysis</td>\n",
       "      <td>50000</td>\n",
       "    </tr>\n",
       "    <tr>\n",
       "      <th>2</th>\n",
       "      <td>NaN</td>\n",
       "      <td>30</td>\n",
       "      <td>M</td>\n",
       "      <td>M.E</td>\n",
       "      <td>5.0</td>\n",
       "      <td>cloud server management</td>\n",
       "      <td>120000</td>\n",
       "    </tr>\n",
       "    <tr>\n",
       "      <th>3</th>\n",
       "      <td>NaN</td>\n",
       "      <td>23</td>\n",
       "      <td>M</td>\n",
       "      <td>B.E</td>\n",
       "      <td>2.0</td>\n",
       "      <td>programming</td>\n",
       "      <td>42000</td>\n",
       "    </tr>\n",
       "    <tr>\n",
       "      <th>4</th>\n",
       "      <td>NaN</td>\n",
       "      <td>21</td>\n",
       "      <td>F</td>\n",
       "      <td>B.E</td>\n",
       "      <td>0.0</td>\n",
       "      <td>predective analysis</td>\n",
       "      <td>35000</td>\n",
       "    </tr>\n",
       "  </tbody>\n",
       "</table>\n",
       "</div>"
      ],
      "text/plain": [
       "  company  Age(yrs) Gender Qualification  no_of_experience_in_years  \\\n",
       "0    ABBB        21      M           B.E                        0.0   \n",
       "1     NaN        24      F           M.E                        1.0   \n",
       "2     NaN        30      M           M.E                        5.0   \n",
       "3     NaN        23      M           B.E                        2.0   \n",
       "4     NaN        21      F           B.E                        0.0   \n",
       "\n",
       "              Area_of_work  salary_package_per_month  \n",
       "0             programming                      30000  \n",
       "1      predective analysis                     50000  \n",
       "2  cloud server management                    120000  \n",
       "3             programming                      42000  \n",
       "4      predective analysis                     35000  "
      ]
     },
     "execution_count": 10,
     "metadata": {},
     "output_type": "execute_result"
    }
   ],
   "source": [
    "df.head()"
   ]
  },
  {
   "cell_type": "markdown",
   "metadata": {},
   "source": [
    "# To check the information/Describe"
   ]
  },
  {
   "cell_type": "code",
   "execution_count": 11,
   "metadata": {},
   "outputs": [
    {
     "name": "stdout",
     "output_type": "stream",
     "text": [
      "<class 'pandas.core.frame.DataFrame'>\n",
      "RangeIndex: 164 entries, 0 to 163\n",
      "Data columns (total 7 columns):\n",
      " #   Column                     Non-Null Count  Dtype  \n",
      "---  ------                     --------------  -----  \n",
      " 0   company                    13 non-null     object \n",
      " 1   Age(yrs)                   164 non-null    int64  \n",
      " 2   Gender                     164 non-null    object \n",
      " 3   Qualification              164 non-null    object \n",
      " 4   no_of_experience_in_years  161 non-null    float64\n",
      " 5   Area_of_work               164 non-null    object \n",
      " 6   salary_package_per_month   164 non-null    int64  \n",
      "dtypes: float64(1), int64(2), object(4)\n",
      "memory usage: 9.1+ KB\n"
     ]
    }
   ],
   "source": [
    "df.info()"
   ]
  },
  {
   "cell_type": "code",
   "execution_count": 12,
   "metadata": {},
   "outputs": [
    {
     "data": {
      "text/html": [
       "<div>\n",
       "<style scoped>\n",
       "    .dataframe tbody tr th:only-of-type {\n",
       "        vertical-align: middle;\n",
       "    }\n",
       "\n",
       "    .dataframe tbody tr th {\n",
       "        vertical-align: top;\n",
       "    }\n",
       "\n",
       "    .dataframe thead th {\n",
       "        text-align: right;\n",
       "    }\n",
       "</style>\n",
       "<table border=\"1\" class=\"dataframe\">\n",
       "  <thead>\n",
       "    <tr style=\"text-align: right;\">\n",
       "      <th></th>\n",
       "      <th>Age(yrs)</th>\n",
       "      <th>no_of_experience_in_years</th>\n",
       "      <th>salary_package_per_month</th>\n",
       "    </tr>\n",
       "  </thead>\n",
       "  <tbody>\n",
       "    <tr>\n",
       "      <th>count</th>\n",
       "      <td>164.000000</td>\n",
       "      <td>161.000000</td>\n",
       "      <td>1.640000e+02</td>\n",
       "    </tr>\n",
       "    <tr>\n",
       "      <th>mean</th>\n",
       "      <td>30.323171</td>\n",
       "      <td>7.229814</td>\n",
       "      <td>4.026098e+05</td>\n",
       "    </tr>\n",
       "    <tr>\n",
       "      <th>std</th>\n",
       "      <td>6.351596</td>\n",
       "      <td>6.027280</td>\n",
       "      <td>4.382364e+05</td>\n",
       "    </tr>\n",
       "    <tr>\n",
       "      <th>min</th>\n",
       "      <td>21.000000</td>\n",
       "      <td>0.000000</td>\n",
       "      <td>2.500000e+04</td>\n",
       "    </tr>\n",
       "    <tr>\n",
       "      <th>25%</th>\n",
       "      <td>25.000000</td>\n",
       "      <td>2.000000</td>\n",
       "      <td>7.500000e+04</td>\n",
       "    </tr>\n",
       "    <tr>\n",
       "      <th>50%</th>\n",
       "      <td>30.000000</td>\n",
       "      <td>7.000000</td>\n",
       "      <td>2.000000e+05</td>\n",
       "    </tr>\n",
       "    <tr>\n",
       "      <th>75%</th>\n",
       "      <td>35.000000</td>\n",
       "      <td>11.000000</td>\n",
       "      <td>6.000000e+05</td>\n",
       "    </tr>\n",
       "    <tr>\n",
       "      <th>max</th>\n",
       "      <td>43.000000</td>\n",
       "      <td>21.000000</td>\n",
       "      <td>2.000000e+06</td>\n",
       "    </tr>\n",
       "  </tbody>\n",
       "</table>\n",
       "</div>"
      ],
      "text/plain": [
       "         Age(yrs)  no_of_experience_in_years  salary_package_per_month\n",
       "count  164.000000                 161.000000              1.640000e+02\n",
       "mean    30.323171                   7.229814              4.026098e+05\n",
       "std      6.351596                   6.027280              4.382364e+05\n",
       "min     21.000000                   0.000000              2.500000e+04\n",
       "25%     25.000000                   2.000000              7.500000e+04\n",
       "50%     30.000000                   7.000000              2.000000e+05\n",
       "75%     35.000000                  11.000000              6.000000e+05\n",
       "max     43.000000                  21.000000              2.000000e+06"
      ]
     },
     "execution_count": 12,
     "metadata": {},
     "output_type": "execute_result"
    }
   ],
   "source": [
    "df.describe()"
   ]
  },
  {
   "cell_type": "code",
   "execution_count": 13,
   "metadata": {},
   "outputs": [
    {
     "data": {
      "text/plain": [
       "F    86\n",
       "M    78\n",
       "Name: Gender, dtype: int64"
      ]
     },
     "execution_count": 13,
     "metadata": {},
     "output_type": "execute_result"
    }
   ],
   "source": [
    "df['Gender'].value_counts()"
   ]
  },
  {
   "cell_type": "code",
   "execution_count": 14,
   "metadata": {},
   "outputs": [
    {
     "data": {
      "text/plain": [
       "B.E    85\n",
       "M.E    79\n",
       "Name: Qualification, dtype: int64"
      ]
     },
     "execution_count": 14,
     "metadata": {},
     "output_type": "execute_result"
    }
   ],
   "source": [
    "df['Qualification'].value_counts()"
   ]
  },
  {
   "cell_type": "code",
   "execution_count": 15,
   "metadata": {},
   "outputs": [
    {
     "data": {
      "text/plain": [
       "Sw testing                 42\n",
       "predective analysis        37\n",
       "programming                34\n",
       "cloud server management    30\n",
       "banking sw                 21\n",
       "Name: Area_of_work, dtype: int64"
      ]
     },
     "execution_count": 15,
     "metadata": {},
     "output_type": "execute_result"
    }
   ],
   "source": [
    "df['Area_of_work'].value_counts()"
   ]
  },
  {
   "cell_type": "markdown",
   "metadata": {},
   "source": [
    "# To check the null Values in dataframe"
   ]
  },
  {
   "cell_type": "code",
   "execution_count": 16,
   "metadata": {},
   "outputs": [
    {
     "data": {
      "text/plain": [
       "array([[False, False, False, ..., False, False, False],\n",
       "       [ True, False, False, ..., False, False, False],\n",
       "       [ True, False, False, ..., False, False, False],\n",
       "       ...,\n",
       "       [ True, False, False, ..., False, False, False],\n",
       "       [ True, False, False, ..., False, False, False],\n",
       "       [ True, False, False, ..., False, False, False]])"
      ]
     },
     "execution_count": 16,
     "metadata": {},
     "output_type": "execute_result"
    }
   ],
   "source": [
    "df.isnull().values"
   ]
  },
  {
   "cell_type": "code",
   "execution_count": 17,
   "metadata": {},
   "outputs": [
    {
     "data": {
      "text/plain": [
       "company                      151\n",
       "Age(yrs)                       0\n",
       "Gender                         0\n",
       "Qualification                  0\n",
       "no_of_experience_in_years      3\n",
       "Area_of_work                   0\n",
       "salary_package_per_month       0\n",
       "dtype: int64"
      ]
     },
     "execution_count": 17,
     "metadata": {},
     "output_type": "execute_result"
    }
   ],
   "source": [
    "df.isnull().sum()"
   ]
  },
  {
   "cell_type": "code",
   "execution_count": 18,
   "metadata": {},
   "outputs": [
    {
     "data": {
      "text/plain": [
       "154"
      ]
     },
     "execution_count": 18,
     "metadata": {},
     "output_type": "execute_result"
    }
   ],
   "source": [
    "df.isnull().sum().sum()"
   ]
  },
  {
   "cell_type": "markdown",
   "metadata": {},
   "source": [
    "# Converting Categorical data into numerical"
   ]
  },
  {
   "cell_type": "code",
   "execution_count": 19,
   "metadata": {},
   "outputs": [],
   "source": [
    "#For train data\n",
    "enc = OrdinalEncoder()\n",
    "df[['Gender','Qualification', 'Area_of_work']] = enc.fit_transform(df[['Gender','Qualification', 'Area_of_work']])\n"
   ]
  },
  {
   "cell_type": "code",
   "execution_count": 20,
   "metadata": {},
   "outputs": [
    {
     "data": {
      "text/html": [
       "<div>\n",
       "<style scoped>\n",
       "    .dataframe tbody tr th:only-of-type {\n",
       "        vertical-align: middle;\n",
       "    }\n",
       "\n",
       "    .dataframe tbody tr th {\n",
       "        vertical-align: top;\n",
       "    }\n",
       "\n",
       "    .dataframe thead th {\n",
       "        text-align: right;\n",
       "    }\n",
       "</style>\n",
       "<table border=\"1\" class=\"dataframe\">\n",
       "  <thead>\n",
       "    <tr style=\"text-align: right;\">\n",
       "      <th></th>\n",
       "      <th>company</th>\n",
       "      <th>Age(yrs)</th>\n",
       "      <th>Gender</th>\n",
       "      <th>Qualification</th>\n",
       "      <th>no_of_experience_in_years</th>\n",
       "      <th>Area_of_work</th>\n",
       "      <th>salary_package_per_month</th>\n",
       "    </tr>\n",
       "  </thead>\n",
       "  <tbody>\n",
       "    <tr>\n",
       "      <th>0</th>\n",
       "      <td>ABBB</td>\n",
       "      <td>21</td>\n",
       "      <td>1.0</td>\n",
       "      <td>0.0</td>\n",
       "      <td>0.0</td>\n",
       "      <td>4.0</td>\n",
       "      <td>30000</td>\n",
       "    </tr>\n",
       "    <tr>\n",
       "      <th>1</th>\n",
       "      <td>NaN</td>\n",
       "      <td>24</td>\n",
       "      <td>0.0</td>\n",
       "      <td>1.0</td>\n",
       "      <td>1.0</td>\n",
       "      <td>3.0</td>\n",
       "      <td>50000</td>\n",
       "    </tr>\n",
       "    <tr>\n",
       "      <th>2</th>\n",
       "      <td>NaN</td>\n",
       "      <td>30</td>\n",
       "      <td>1.0</td>\n",
       "      <td>1.0</td>\n",
       "      <td>5.0</td>\n",
       "      <td>2.0</td>\n",
       "      <td>120000</td>\n",
       "    </tr>\n",
       "    <tr>\n",
       "      <th>3</th>\n",
       "      <td>NaN</td>\n",
       "      <td>23</td>\n",
       "      <td>1.0</td>\n",
       "      <td>0.0</td>\n",
       "      <td>2.0</td>\n",
       "      <td>4.0</td>\n",
       "      <td>42000</td>\n",
       "    </tr>\n",
       "    <tr>\n",
       "      <th>4</th>\n",
       "      <td>NaN</td>\n",
       "      <td>21</td>\n",
       "      <td>0.0</td>\n",
       "      <td>0.0</td>\n",
       "      <td>0.0</td>\n",
       "      <td>3.0</td>\n",
       "      <td>35000</td>\n",
       "    </tr>\n",
       "    <tr>\n",
       "      <th>...</th>\n",
       "      <td>...</td>\n",
       "      <td>...</td>\n",
       "      <td>...</td>\n",
       "      <td>...</td>\n",
       "      <td>...</td>\n",
       "      <td>...</td>\n",
       "      <td>...</td>\n",
       "    </tr>\n",
       "    <tr>\n",
       "      <th>159</th>\n",
       "      <td>NaN</td>\n",
       "      <td>41</td>\n",
       "      <td>0.0</td>\n",
       "      <td>0.0</td>\n",
       "      <td>18.0</td>\n",
       "      <td>3.0</td>\n",
       "      <td>1300000</td>\n",
       "    </tr>\n",
       "    <tr>\n",
       "      <th>160</th>\n",
       "      <td>NaN</td>\n",
       "      <td>42</td>\n",
       "      <td>0.0</td>\n",
       "      <td>0.0</td>\n",
       "      <td>18.0</td>\n",
       "      <td>3.0</td>\n",
       "      <td>1900000</td>\n",
       "    </tr>\n",
       "    <tr>\n",
       "      <th>161</th>\n",
       "      <td>NaN</td>\n",
       "      <td>42</td>\n",
       "      <td>0.0</td>\n",
       "      <td>0.0</td>\n",
       "      <td>21.0</td>\n",
       "      <td>2.0</td>\n",
       "      <td>2000000</td>\n",
       "    </tr>\n",
       "    <tr>\n",
       "      <th>162</th>\n",
       "      <td>NaN</td>\n",
       "      <td>42</td>\n",
       "      <td>0.0</td>\n",
       "      <td>0.0</td>\n",
       "      <td>21.0</td>\n",
       "      <td>2.0</td>\n",
       "      <td>2000000</td>\n",
       "    </tr>\n",
       "    <tr>\n",
       "      <th>163</th>\n",
       "      <td>NaN</td>\n",
       "      <td>43</td>\n",
       "      <td>0.0</td>\n",
       "      <td>0.0</td>\n",
       "      <td>21.0</td>\n",
       "      <td>2.0</td>\n",
       "      <td>1900000</td>\n",
       "    </tr>\n",
       "  </tbody>\n",
       "</table>\n",
       "<p>164 rows × 7 columns</p>\n",
       "</div>"
      ],
      "text/plain": [
       "    company  Age(yrs)  Gender  Qualification  no_of_experience_in_years  \\\n",
       "0      ABBB        21     1.0            0.0                        0.0   \n",
       "1       NaN        24     0.0            1.0                        1.0   \n",
       "2       NaN        30     1.0            1.0                        5.0   \n",
       "3       NaN        23     1.0            0.0                        2.0   \n",
       "4       NaN        21     0.0            0.0                        0.0   \n",
       "..      ...       ...     ...            ...                        ...   \n",
       "159     NaN        41     0.0            0.0                       18.0   \n",
       "160     NaN        42     0.0            0.0                       18.0   \n",
       "161     NaN        42     0.0            0.0                       21.0   \n",
       "162     NaN        42     0.0            0.0                       21.0   \n",
       "163     NaN        43     0.0            0.0                       21.0   \n",
       "\n",
       "     Area_of_work  salary_package_per_month  \n",
       "0             4.0                     30000  \n",
       "1             3.0                     50000  \n",
       "2             2.0                    120000  \n",
       "3             4.0                     42000  \n",
       "4             3.0                     35000  \n",
       "..            ...                       ...  \n",
       "159           3.0                   1300000  \n",
       "160           3.0                   1900000  \n",
       "161           2.0                   2000000  \n",
       "162           2.0                   2000000  \n",
       "163           2.0                   1900000  \n",
       "\n",
       "[164 rows x 7 columns]"
      ]
     },
     "execution_count": 20,
     "metadata": {},
     "output_type": "execute_result"
    }
   ],
   "source": [
    "df"
   ]
  },
  {
   "cell_type": "code",
   "execution_count": 21,
   "metadata": {},
   "outputs": [],
   "source": [
    "#For test data\n",
    "enc = OrdinalEncoder()\n",
    "df1[['Gender','Qualification', 'Area_of_work']] = enc.fit_transform(df1[['Gender','Qualification', 'Area_of_work']])"
   ]
  },
  {
   "cell_type": "code",
   "execution_count": 22,
   "metadata": {},
   "outputs": [
    {
     "data": {
      "text/html": [
       "<div>\n",
       "<style scoped>\n",
       "    .dataframe tbody tr th:only-of-type {\n",
       "        vertical-align: middle;\n",
       "    }\n",
       "\n",
       "    .dataframe tbody tr th {\n",
       "        vertical-align: top;\n",
       "    }\n",
       "\n",
       "    .dataframe thead th {\n",
       "        text-align: right;\n",
       "    }\n",
       "</style>\n",
       "<table border=\"1\" class=\"dataframe\">\n",
       "  <thead>\n",
       "    <tr style=\"text-align: right;\">\n",
       "      <th></th>\n",
       "      <th>Age(yrs)</th>\n",
       "      <th>Gender</th>\n",
       "      <th>Qualification</th>\n",
       "      <th>no_of_experience_in_years</th>\n",
       "      <th>Area_of_work</th>\n",
       "      <th>salary_package_per_month</th>\n",
       "    </tr>\n",
       "  </thead>\n",
       "  <tbody>\n",
       "    <tr>\n",
       "      <th>0</th>\n",
       "      <td>22</td>\n",
       "      <td>0.0</td>\n",
       "      <td>0.0</td>\n",
       "      <td>1</td>\n",
       "      <td>4.0</td>\n",
       "      <td>NaN</td>\n",
       "    </tr>\n",
       "    <tr>\n",
       "      <th>1</th>\n",
       "      <td>21</td>\n",
       "      <td>1.0</td>\n",
       "      <td>0.0</td>\n",
       "      <td>0</td>\n",
       "      <td>3.0</td>\n",
       "      <td>NaN</td>\n",
       "    </tr>\n",
       "    <tr>\n",
       "      <th>2</th>\n",
       "      <td>30</td>\n",
       "      <td>0.0</td>\n",
       "      <td>1.0</td>\n",
       "      <td>4</td>\n",
       "      <td>1.0</td>\n",
       "      <td>NaN</td>\n",
       "    </tr>\n",
       "    <tr>\n",
       "      <th>3</th>\n",
       "      <td>28</td>\n",
       "      <td>1.0</td>\n",
       "      <td>1.0</td>\n",
       "      <td>3</td>\n",
       "      <td>0.0</td>\n",
       "      <td>NaN</td>\n",
       "    </tr>\n",
       "    <tr>\n",
       "      <th>4</th>\n",
       "      <td>24</td>\n",
       "      <td>0.0</td>\n",
       "      <td>1.0</td>\n",
       "      <td>1</td>\n",
       "      <td>2.0</td>\n",
       "      <td>NaN</td>\n",
       "    </tr>\n",
       "  </tbody>\n",
       "</table>\n",
       "</div>"
      ],
      "text/plain": [
       "   Age(yrs)  Gender  Qualification  no_of_experience_in_years  Area_of_work  \\\n",
       "0        22     0.0            0.0                          1           4.0   \n",
       "1        21     1.0            0.0                          0           3.0   \n",
       "2        30     0.0            1.0                          4           1.0   \n",
       "3        28     1.0            1.0                          3           0.0   \n",
       "4        24     0.0            1.0                          1           2.0   \n",
       "\n",
       "   salary_package_per_month  \n",
       "0                       NaN  \n",
       "1                       NaN  \n",
       "2                       NaN  \n",
       "3                       NaN  \n",
       "4                       NaN  "
      ]
     },
     "execution_count": 22,
     "metadata": {},
     "output_type": "execute_result"
    }
   ],
   "source": [
    "df1"
   ]
  },
  {
   "cell_type": "code",
   "execution_count": 23,
   "metadata": {},
   "outputs": [],
   "source": [
    "#For 2nd test data\n",
    "enc = OrdinalEncoder()\n",
    "df2[['Gender','Qualification', 'Area_of_work']] = enc.fit_transform(df2[['Gender','Qualification', 'Area_of_work']])"
   ]
  },
  {
   "cell_type": "code",
   "execution_count": 24,
   "metadata": {},
   "outputs": [
    {
     "data": {
      "text/html": [
       "<div>\n",
       "<style scoped>\n",
       "    .dataframe tbody tr th:only-of-type {\n",
       "        vertical-align: middle;\n",
       "    }\n",
       "\n",
       "    .dataframe tbody tr th {\n",
       "        vertical-align: top;\n",
       "    }\n",
       "\n",
       "    .dataframe thead th {\n",
       "        text-align: right;\n",
       "    }\n",
       "</style>\n",
       "<table border=\"1\" class=\"dataframe\">\n",
       "  <thead>\n",
       "    <tr style=\"text-align: right;\">\n",
       "      <th></th>\n",
       "      <th>Age(yrs)</th>\n",
       "      <th>Gender</th>\n",
       "      <th>Qualification</th>\n",
       "      <th>no_of_experience_in_years</th>\n",
       "      <th>Area_of_work</th>\n",
       "      <th>salary_package_per_month</th>\n",
       "    </tr>\n",
       "  </thead>\n",
       "  <tbody>\n",
       "    <tr>\n",
       "      <th>0</th>\n",
       "      <td>31</td>\n",
       "      <td>0.0</td>\n",
       "      <td>0.0</td>\n",
       "      <td>9</td>\n",
       "      <td>0.0</td>\n",
       "      <td></td>\n",
       "    </tr>\n",
       "  </tbody>\n",
       "</table>\n",
       "</div>"
      ],
      "text/plain": [
       "  Age(yrs)  Gender  Qualification no_of_experience_in_years  Area_of_work  \\\n",
       "0       31     0.0            0.0                         9           0.0   \n",
       "\n",
       "  salary_package_per_month  \n",
       "0                           "
      ]
     },
     "execution_count": 24,
     "metadata": {},
     "output_type": "execute_result"
    }
   ],
   "source": [
    "df2"
   ]
  },
  {
   "cell_type": "markdown",
   "metadata": {},
   "source": [
    "# Checking correlation"
   ]
  },
  {
   "cell_type": "code",
   "execution_count": 25,
   "metadata": {},
   "outputs": [
    {
     "data": {
      "text/html": [
       "<div>\n",
       "<style scoped>\n",
       "    .dataframe tbody tr th:only-of-type {\n",
       "        vertical-align: middle;\n",
       "    }\n",
       "\n",
       "    .dataframe tbody tr th {\n",
       "        vertical-align: top;\n",
       "    }\n",
       "\n",
       "    .dataframe thead th {\n",
       "        text-align: right;\n",
       "    }\n",
       "</style>\n",
       "<table border=\"1\" class=\"dataframe\">\n",
       "  <thead>\n",
       "    <tr style=\"text-align: right;\">\n",
       "      <th></th>\n",
       "      <th>Age(yrs)</th>\n",
       "      <th>Gender</th>\n",
       "      <th>Qualification</th>\n",
       "      <th>no_of_experience_in_years</th>\n",
       "      <th>Area_of_work</th>\n",
       "      <th>salary_package_per_month</th>\n",
       "    </tr>\n",
       "  </thead>\n",
       "  <tbody>\n",
       "    <tr>\n",
       "      <th>Age(yrs)</th>\n",
       "      <td>1.000000</td>\n",
       "      <td>-0.220213</td>\n",
       "      <td>0.076065</td>\n",
       "      <td>0.954675</td>\n",
       "      <td>0.160739</td>\n",
       "      <td>0.678258</td>\n",
       "    </tr>\n",
       "    <tr>\n",
       "      <th>Gender</th>\n",
       "      <td>-0.220213</td>\n",
       "      <td>1.000000</td>\n",
       "      <td>0.108173</td>\n",
       "      <td>-0.230811</td>\n",
       "      <td>-0.221889</td>\n",
       "      <td>-0.164675</td>\n",
       "    </tr>\n",
       "    <tr>\n",
       "      <th>Qualification</th>\n",
       "      <td>0.076065</td>\n",
       "      <td>0.108173</td>\n",
       "      <td>1.000000</td>\n",
       "      <td>-0.116923</td>\n",
       "      <td>-0.156062</td>\n",
       "      <td>-0.281193</td>\n",
       "    </tr>\n",
       "    <tr>\n",
       "      <th>no_of_experience_in_years</th>\n",
       "      <td>0.954675</td>\n",
       "      <td>-0.230811</td>\n",
       "      <td>-0.116923</td>\n",
       "      <td>1.000000</td>\n",
       "      <td>0.136361</td>\n",
       "      <td>0.771924</td>\n",
       "    </tr>\n",
       "    <tr>\n",
       "      <th>Area_of_work</th>\n",
       "      <td>0.160739</td>\n",
       "      <td>-0.221889</td>\n",
       "      <td>-0.156062</td>\n",
       "      <td>0.136361</td>\n",
       "      <td>1.000000</td>\n",
       "      <td>0.003917</td>\n",
       "    </tr>\n",
       "    <tr>\n",
       "      <th>salary_package_per_month</th>\n",
       "      <td>0.678258</td>\n",
       "      <td>-0.164675</td>\n",
       "      <td>-0.281193</td>\n",
       "      <td>0.771924</td>\n",
       "      <td>0.003917</td>\n",
       "      <td>1.000000</td>\n",
       "    </tr>\n",
       "  </tbody>\n",
       "</table>\n",
       "</div>"
      ],
      "text/plain": [
       "                           Age(yrs)    Gender  Qualification  \\\n",
       "Age(yrs)                   1.000000 -0.220213       0.076065   \n",
       "Gender                    -0.220213  1.000000       0.108173   \n",
       "Qualification              0.076065  0.108173       1.000000   \n",
       "no_of_experience_in_years  0.954675 -0.230811      -0.116923   \n",
       "Area_of_work               0.160739 -0.221889      -0.156062   \n",
       "salary_package_per_month   0.678258 -0.164675      -0.281193   \n",
       "\n",
       "                           no_of_experience_in_years  Area_of_work  \\\n",
       "Age(yrs)                                    0.954675      0.160739   \n",
       "Gender                                     -0.230811     -0.221889   \n",
       "Qualification                              -0.116923     -0.156062   \n",
       "no_of_experience_in_years                   1.000000      0.136361   \n",
       "Area_of_work                                0.136361      1.000000   \n",
       "salary_package_per_month                    0.771924      0.003917   \n",
       "\n",
       "                           salary_package_per_month  \n",
       "Age(yrs)                                   0.678258  \n",
       "Gender                                    -0.164675  \n",
       "Qualification                             -0.281193  \n",
       "no_of_experience_in_years                  0.771924  \n",
       "Area_of_work                               0.003917  \n",
       "salary_package_per_month                   1.000000  "
      ]
     },
     "execution_count": 25,
     "metadata": {},
     "output_type": "execute_result"
    }
   ],
   "source": [
    "correlation_matrix=df.corr()\n",
    "correlation_matrix"
   ]
  },
  {
   "cell_type": "code",
   "execution_count": 26,
   "metadata": {},
   "outputs": [
    {
     "data": {
      "text/plain": [
       "salary_package_per_month     1.000000\n",
       "no_of_experience_in_years    0.771924\n",
       "Age(yrs)                     0.678258\n",
       "Area_of_work                 0.003917\n",
       "Gender                      -0.164675\n",
       "Qualification               -0.281193\n",
       "Name: salary_package_per_month, dtype: float64"
      ]
     },
     "execution_count": 26,
     "metadata": {},
     "output_type": "execute_result"
    }
   ],
   "source": [
    "correlation_matrix['salary_package_per_month'].sort_values(ascending=False)\n",
    "#From here we can se that salary is highly dependent on the *no of experience in years*"
   ]
  },
  {
   "cell_type": "markdown",
   "metadata": {},
   "source": [
    "# Scatter matrix to analyse the data"
   ]
  },
  {
   "cell_type": "code",
   "execution_count": 27,
   "metadata": {},
   "outputs": [
    {
     "data": {
      "text/plain": [
       "array([[<AxesSubplot:xlabel='salary_package_per_month', ylabel='salary_package_per_month'>,\n",
       "        <AxesSubplot:xlabel='no_of_experience_in_years', ylabel='salary_package_per_month'>],\n",
       "       [<AxesSubplot:xlabel='salary_package_per_month', ylabel='no_of_experience_in_years'>,\n",
       "        <AxesSubplot:xlabel='no_of_experience_in_years', ylabel='no_of_experience_in_years'>]],\n",
       "      dtype=object)"
      ]
     },
     "execution_count": 27,
     "metadata": {},
     "output_type": "execute_result"
    },
    {
     "data": {
      "image/png": "[encoded data removed]",
      "text/plain": [
       "<Figure size 864x576 with 4 Axes>"
      ]
     },
     "metadata": {
      "needs_background": "light"
     },
     "output_type": "display_data"
    }
   ],
   "source": [
    "attributes=['salary_package_per_month','no_of_experience_in_years']\n",
    "scatter_matrix(df[attributes],figsize=(12,8))"
   ]
  },
  {
   "cell_type": "code",
   "execution_count": 28,
   "metadata": {},
   "outputs": [
    {
     "data": {
      "text/plain": [
       "<AxesSubplot:xlabel='no_of_experience_in_years', ylabel='salary_package_per_month'>"
      ]
     },
     "execution_count": 28,
     "metadata": {},
     "output_type": "execute_result"
    },
    {
     "data": {
      "image/png": "[encoded data removed]",
      "text/plain": [
       "<Figure size 432x288 with 1 Axes>"
      ]
     },
     "metadata": {
      "needs_background": "light"
     },
     "output_type": "display_data"
    }
   ],
   "source": [
    "#alpha used for darker values in the plot\n",
    "df.plot(kind='scatter',x='no_of_experience_in_years',y='salary_package_per_month',alpha=1)"
   ]
  },
  {
   "cell_type": "code",
   "execution_count": 29,
   "metadata": {},
   "outputs": [
    {
     "data": {
      "text/plain": [
       "<AxesSubplot:xlabel='Gender', ylabel='salary_package_per_month'>"
      ]
     },
     "execution_count": 29,
     "metadata": {},
     "output_type": "execute_result"
    },
    {
     "data": {
      "image/png": "[encoded data removed]",
      "text/plain": [
       "<Figure size 432x288 with 1 Axes>"
      ]
     },
     "metadata": {
      "needs_background": "light"
     },
     "output_type": "display_data"
    }
   ],
   "source": [
    "df.plot(kind='scatter',x='Gender',y='salary_package_per_month',alpha=.5)\n"
   ]
  },
  {
   "cell_type": "code",
   "execution_count": 30,
   "metadata": {},
   "outputs": [
    {
     "data": {
      "text/plain": [
       "<AxesSubplot:xlabel='Age(yrs)', ylabel='salary_package_per_month'>"
      ]
     },
     "execution_count": 30,
     "metadata": {},
     "output_type": "execute_result"
    },
    {
     "data": {
      "image/png": "[encoded data removed]",
      "text/plain": [
       "<Figure size 432x288 with 1 Axes>"
      ]
     },
     "metadata": {
      "needs_background": "light"
     },
     "output_type": "display_data"
    }
   ],
   "source": [
    "df.plot(kind='scatter',x='Age(yrs)',y='salary_package_per_month',alpha=.5)"
   ]
  },
  {
   "cell_type": "markdown",
   "metadata": {},
   "source": [
    "# Data Cleaning"
   ]
  },
  {
   "cell_type": "code",
   "execution_count": 31,
   "metadata": {},
   "outputs": [],
   "source": [
    "# As we have scene from above experience that we dont need column which have multiple null values so we will drop them"
   ]
  },
  {
   "cell_type": "code",
   "execution_count": 32,
   "metadata": {},
   "outputs": [],
   "source": [
    "df.drop(['company'], axis=1, inplace=True)"
   ]
  },
  {
   "cell_type": "code",
   "execution_count": 33,
   "metadata": {},
   "outputs": [
    {
     "data": {
      "text/plain": [
       "(164, 6)"
      ]
     },
     "execution_count": 33,
     "metadata": {},
     "output_type": "execute_result"
    }
   ],
   "source": [
    "df.shape"
   ]
  },
  {
   "cell_type": "code",
   "execution_count": 34,
   "metadata": {},
   "outputs": [
    {
     "data": {
      "text/plain": [
       "array([ 0.,  1.,  5.,  2.,  4.,  7.,  9.,  8.,  3., 10., 11., 13., 15.,\n",
       "       18., 20., 21.,  6., 12., 16., 14., 19., nan, 17.])"
      ]
     },
     "execution_count": 34,
     "metadata": {},
     "output_type": "execute_result"
    }
   ],
   "source": [
    "#Checking unique value in experience\n",
    "df['no_of_experience_in_years'].unique()"
   ]
  },
  {
   "cell_type": "code",
   "execution_count": 35,
   "metadata": {},
   "outputs": [
    {
     "data": {
      "text/plain": [
       "Age(yrs)                       int64\n",
       "Gender                       float64\n",
       "Qualification                float64\n",
       "no_of_experience_in_years    float64\n",
       "Area_of_work                 float64\n",
       "salary_package_per_month       int64\n",
       "dtype: object"
      ]
     },
     "execution_count": 35,
     "metadata": {},
     "output_type": "execute_result"
    }
   ],
   "source": [
    "#checking the data types \n",
    "df.dtypes"
   ]
  },
  {
   "cell_type": "code",
   "execution_count": 36,
   "metadata": {},
   "outputs": [
    {
     "data": {
      "text/plain": [
       "7.0"
      ]
     },
     "execution_count": 36,
     "metadata": {},
     "output_type": "execute_result"
    }
   ],
   "source": [
    "# as no of experience in years is very important column and it has 3 null values so we will fill it using median\n",
    "# because as we have seen above &When the data has more outliers, it's best to replace them with the median value.&\n",
    "median=df['no_of_experience_in_years'].median()\n",
    "median"
   ]
  },
  {
   "cell_type": "code",
   "execution_count": 37,
   "metadata": {},
   "outputs": [
    {
     "data": {
      "text/plain": [
       "Age(yrs)                     0\n",
       "Gender                       0\n",
       "Qualification                0\n",
       "no_of_experience_in_years    0\n",
       "Area_of_work                 0\n",
       "salary_package_per_month     0\n",
       "dtype: int64"
      ]
     },
     "execution_count": 37,
     "metadata": {},
     "output_type": "execute_result"
    }
   ],
   "source": [
    "df['no_of_experience_in_years'].fillna(median,inplace=True)\n",
    "df.isnull().sum()"
   ]
  },
  {
   "cell_type": "code",
   "execution_count": 38,
   "metadata": {},
   "outputs": [
    {
     "data": {
      "text/plain": [
       "29"
      ]
     },
     "execution_count": 38,
     "metadata": {},
     "output_type": "execute_result"
    }
   ],
   "source": [
    "#To find Duplicate rows\n",
    "df.duplicated(subset=None,keep='first').sum()"
   ]
  },
  {
   "cell_type": "code",
   "execution_count": 39,
   "metadata": {},
   "outputs": [],
   "source": [
    "#To remove Duplicate rows\n",
    "df.drop_duplicates(subset=None,keep='first',inplace=True)"
   ]
  },
  {
   "cell_type": "code",
   "execution_count": 40,
   "metadata": {},
   "outputs": [
    {
     "data": {
      "text/plain": [
       "(135, 6)"
      ]
     },
     "execution_count": 40,
     "metadata": {},
     "output_type": "execute_result"
    }
   ],
   "source": [
    "df.shape\n"
   ]
  },
  {
   "cell_type": "markdown",
   "metadata": {},
   "source": [
    "# Train Test Split"
   ]
  },
  {
   "cell_type": "code",
   "execution_count": 41,
   "metadata": {},
   "outputs": [],
   "source": [
    "# for test csv\n",
    "x_test=df1[['Age(yrs)','no_of_experience_in_years','Qualification','Gender','Area_of_work']]\n"
   ]
  },
  {
   "cell_type": "code",
   "execution_count": 42,
   "metadata": {},
   "outputs": [],
   "source": [
    "# for testing single dataframe df2\n",
    "z_test=df2[['Age(yrs)','no_of_experience_in_years','Qualification','Gender','Area_of_work']]"
   ]
  },
  {
   "cell_type": "code",
   "execution_count": 43,
   "metadata": {},
   "outputs": [],
   "source": [
    "x_train=df[['Age(yrs)','no_of_experience_in_years','Qualification','Gender','Area_of_work']]\n",
    "y_train=df[['salary_package_per_month']]"
   ]
  },
  {
   "cell_type": "code",
   "execution_count": 44,
   "metadata": {},
   "outputs": [],
   "source": [
    "lr=LinearRegression()\n"
   ]
  },
  {
   "cell_type": "code",
   "execution_count": 45,
   "metadata": {},
   "outputs": [
    {
     "data": {
      "text/plain": [
       "LinearRegression()"
      ]
     },
     "execution_count": 45,
     "metadata": {},
     "output_type": "execute_result"
    }
   ],
   "source": [
    "lr.fit(x_train,y_train)"
   ]
  },
  {
   "cell_type": "code",
   "execution_count": 46,
   "metadata": {},
   "outputs": [
    {
     "data": {
      "text/plain": [
       "array([[ 21229.33686177],\n",
       "       [ 37771.10519458],\n",
       "       [139035.107338  ],\n",
       "       [160616.93110383],\n",
       "       [-48158.98179693]])"
      ]
     },
     "execution_count": 46,
     "metadata": {},
     "output_type": "execute_result"
    }
   ],
   "source": [
    "y_pre=lr.predict(x_test)\n",
    "y_pre"
   ]
  },
  {
   "cell_type": "code",
   "execution_count": 47,
   "metadata": {},
   "outputs": [
    {
     "data": {
      "text/plain": [
       "array([[609105.83027112]])"
      ]
     },
     "execution_count": 47,
     "metadata": {},
     "output_type": "execute_result"
    }
   ],
   "source": [
    "Y_pre=lr.predict(z_test)\n",
    "Y_pre"
   ]
  },
  {
   "cell_type": "code",
   "execution_count": 48,
   "metadata": {},
   "outputs": [
    {
     "data": {
      "text/plain": [
       "1.0"
      ]
     },
     "execution_count": 48,
     "metadata": {},
     "output_type": "execute_result"
    }
   ],
   "source": [
    "# Accuracy for test data csv\n",
    "lr.score(x_test,y_pre)"
   ]
  },
  {
   "cell_type": "markdown",
   "metadata": {},
   "source": [
    "# Project Completed"
   ]
  },
  {
   "cell_type": "code",
   "execution_count": null,
   "metadata": {},
   "outputs": [],
   "source": []
  }
 ],
 "metadata": {
  "kernelspec": {
   "display_name": "Python 3 (ipykernel)",
   "language": "python",
   "name": "python3"
  },
  "language_info": {
   "codemirror_mode": {
    "name": "ipython",
    "version": 3
   },
   "file_extension": ".py",
   "mimetype": "text/x-python",
   "name": "python",
   "nbconvert_exporter": "python",
   "pygments_lexer": "ipython3",
   "version": "3.9.7"
  }
 },
 "nbformat": 4,
 "nbformat_minor": 4
}
